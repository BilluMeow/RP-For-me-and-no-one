{
  "cells": [
    {
      "cell_type": "markdown",
      "id": "a74fbab7",
      "metadata": {},
      "source": []
    },
    {
      "cell_type": "code",
      "execution_count": 1,
      "metadata": {},
      "outputs": [
        {
          "name": "stdout",
          "output_type": "stream",
          "text": [
            "Defaulting to user installation because normal site-packages is not writeable\n",
            "Requirement already satisfied: pandas in c:\\users\\abeer\\appdata\\roaming\\python\\python312\\site-packages (2.2.3)\n",
            "Requirement already satisfied: numpy in c:\\users\\abeer\\appdata\\roaming\\python\\python312\\site-packages (1.26.4)\n",
            "Requirement already satisfied: scikit-learn in c:\\users\\abeer\\appdata\\roaming\\python\\python312\\site-packages (1.6.0)\n",
            "Requirement already satisfied: matplotlib in c:\\users\\abeer\\appdata\\roaming\\python\\python312\\site-packages (3.10.0)\n",
            "Requirement already satisfied: seaborn in c:\\users\\abeer\\appdata\\roaming\\python\\python312\\site-packages (0.13.2)\n",
            "Requirement already satisfied: joblib in c:\\users\\abeer\\appdata\\roaming\\python\\python312\\site-packages (1.4.2)\n",
            "Requirement already satisfied: python-dateutil>=2.8.2 in c:\\users\\abeer\\appdata\\roaming\\python\\python312\\site-packages (from pandas) (2.9.0.post0)\n",
            "Requirement already satisfied: pytz>=2020.1 in c:\\users\\abeer\\appdata\\roaming\\python\\python312\\site-packages (from pandas) (2024.2)\n",
            "Requirement already satisfied: tzdata>=2022.7 in c:\\users\\abeer\\appdata\\roaming\\python\\python312\\site-packages (from pandas) (2024.2)\n",
            "Requirement already satisfied: scipy>=1.6.0 in c:\\users\\abeer\\appdata\\roaming\\python\\python312\\site-packages (from scikit-learn) (1.13.1)\n",
            "Requirement already satisfied: threadpoolctl>=3.1.0 in c:\\users\\abeer\\appdata\\roaming\\python\\python312\\site-packages (from scikit-learn) (3.5.0)\n",
            "Requirement already satisfied: contourpy>=1.0.1 in c:\\users\\abeer\\appdata\\roaming\\python\\python312\\site-packages (from matplotlib) (1.3.1)\n",
            "Requirement already satisfied: cycler>=0.10 in c:\\users\\abeer\\appdata\\roaming\\python\\python312\\site-packages (from matplotlib) (0.12.1)\n",
            "Requirement already satisfied: fonttools>=4.22.0 in c:\\users\\abeer\\appdata\\roaming\\python\\python312\\site-packages (from matplotlib) (4.55.3)\n",
            "Requirement already satisfied: kiwisolver>=1.3.1 in c:\\users\\abeer\\appdata\\roaming\\python\\python312\\site-packages (from matplotlib) (1.4.8)\n",
            "Requirement already satisfied: packaging>=20.0 in c:\\users\\abeer\\appdata\\roaming\\python\\python312\\site-packages (from matplotlib) (24.2)\n",
            "Requirement already satisfied: pillow>=8 in c:\\users\\abeer\\appdata\\roaming\\python\\python312\\site-packages (from matplotlib) (11.1.0)\n",
            "Requirement already satisfied: pyparsing>=2.3.1 in c:\\users\\abeer\\appdata\\roaming\\python\\python312\\site-packages (from matplotlib) (3.2.1)\n",
            "Requirement already satisfied: six>=1.5 in c:\\users\\abeer\\appdata\\roaming\\python\\python312\\site-packages (from python-dateutil>=2.8.2->pandas) (1.17.0)\n"
          ]
        },
        {
          "name": "stderr",
          "output_type": "stream",
          "text": [
            "\n",
            "[notice] A new release of pip is available: 24.3.1 -> 25.1.1\n",
            "[notice] To update, run: python.exe -m pip install --upgrade pip\n"
          ]
        }
      ],
      "source": [
        "!pip install pandas numpy scikit-learn matplotlib seaborn joblib"
      ]
    },
    {
      "cell_type": "code",
      "execution_count": 3,
      "metadata": {},
      "outputs": [
        {
          "data": {
            "text/plain": [
              "(   id        V1        V2        V3        V4        V5        V6        V7  \\\n",
              " 0   0 -0.260648 -0.469648  2.496266 -0.083724  0.129681  0.732898  0.519014   \n",
              " 1   1  0.985100 -0.356045  0.558056 -0.429654  0.277140  0.428605  0.406466   \n",
              " 2   2 -0.260272 -0.949385  1.728538 -0.457986  0.074062  1.419481  0.743511   \n",
              " 3   3 -0.152152 -0.508959  1.746840 -1.090178  0.249486  1.143312  0.518269   \n",
              " 4   4 -0.206820 -0.165280  1.527053 -0.448293  0.106125  0.530549  0.658849   \n",
              " \n",
              "          V8        V9  ...       V21       V22       V23       V24       V25  \\\n",
              " 0 -0.130006  0.727159  ... -0.110552  0.217606 -0.134794  0.165959  0.126280   \n",
              " 1 -0.133118  0.347452  ... -0.194936 -0.605761  0.079469 -0.577395  0.190090   \n",
              " 2 -0.095576 -0.261297  ... -0.005020  0.702906  0.945045 -1.154666 -0.605564   \n",
              " 3 -0.065130 -0.205698  ... -0.146927 -0.038212 -0.214048 -1.893131  1.003963   \n",
              " 4 -0.212660  1.049921  ... -0.106984  0.729727 -0.161666  0.312561 -0.414116   \n",
              " \n",
              "         V26       V27       V28    Amount  Class  \n",
              " 0 -0.434824 -0.081230 -0.151045  17982.10      0  \n",
              " 1  0.296503 -0.248052 -0.064512   6531.37      0  \n",
              " 2 -0.312895 -0.300258 -0.244718   2513.54      0  \n",
              " 3 -0.515950 -0.165316  0.048424   5384.44      0  \n",
              " 4  1.071126  0.023712  0.419117  14278.97      0  \n",
              " \n",
              " [5 rows x 31 columns],\n",
              "    Unnamed: 0 trans_date_trans_time            cc_num  \\\n",
              " 0           0   2019-01-01 00:00:18  2703186189652095   \n",
              " 1           1   2019-01-01 00:00:44      630423337322   \n",
              " 2           2   2019-01-01 00:00:51    38859492057661   \n",
              " 3           3   2019-01-01 00:01:16  3534093764340240   \n",
              " 4           4   2019-01-01 00:03:06   375534208663984   \n",
              " \n",
              "                              merchant       category     amt      first  \\\n",
              " 0          fraud_Rippin, Kub and Mann       misc_net    4.97   Jennifer   \n",
              " 1     fraud_Heller, Gutmann and Zieme    grocery_pos  107.23  Stephanie   \n",
              " 2                fraud_Lind-Buckridge  entertainment  220.11     Edward   \n",
              " 3  fraud_Kutch, Hermiston and Farrell  gas_transport   45.00     Jeremy   \n",
              " 4                 fraud_Keeling-Crist       misc_pos   41.96      Tyler   \n",
              " \n",
              "       last gender                        street  ...      lat      long  \\\n",
              " 0    Banks      F                561 Perry Cove  ...  36.0788  -81.1781   \n",
              " 1     Gill      F  43039 Riley Greens Suite 393  ...  48.8878 -118.2105   \n",
              " 2  Sanchez      M      594 White Dale Suite 530  ...  42.1808 -112.2620   \n",
              " 3    White      M   9443 Cynthia Court Apt. 038  ...  46.2306 -112.1138   \n",
              " 4   Garcia      M              408 Bradley Rest  ...  38.4207  -79.4629   \n",
              " \n",
              "    city_pop                                job         dob  \\\n",
              " 0      3495          Psychologist, counselling  1988-03-09   \n",
              " 1       149  Special educational needs teacher  1978-06-21   \n",
              " 2      4154        Nature conservation officer  1962-01-19   \n",
              " 3      1939                    Patent attorney  1967-01-12   \n",
              " 4        99     Dance movement psychotherapist  1986-03-28   \n",
              " \n",
              "                           trans_num   unix_time  merch_lat  merch_long  \\\n",
              " 0  0b242abb623afc578575680df30655b9  1325376018  36.011293  -82.048315   \n",
              " 1  1f76529f8574734946361c461b024d99  1325376044  49.159047 -118.186462   \n",
              " 2  a1a22d70485983eac12b5b88dad1cf95  1325376051  43.150704 -112.154481   \n",
              " 3  6b849c168bdad6f867558c3793159a81  1325376076  47.034331 -112.561071   \n",
              " 4  a41d7549acf90789359a9aa5346dcb46  1325376186  38.674999  -78.632459   \n",
              " \n",
              "    is_fraud  \n",
              " 0         0  \n",
              " 1         0  \n",
              " 2         0  \n",
              " 3         0  \n",
              " 4         0  \n",
              " \n",
              " [5 rows x 23 columns])"
            ]
          },
          "execution_count": 3,
          "metadata": {},
          "output_type": "execute_result"
        }
      ],
      "source": [
        "import pandas as pd\n",
        "import numpy as np\n",
        "import matplotlib.pyplot as plt\n",
        "import seaborn as sns\n",
        "from sklearn.model_selection import train_test_split\n",
        "from sklearn.preprocessing import StandardScaler\n",
        "from sklearn.ensemble import RandomForestClassifier\n",
        "from sklearn.linear_model import LogisticRegression\n",
        "from sklearn.metrics import classification_report, confusion_matrix, roc_auc_score\n",
        "import joblib\n",
        "\n",
        "# Read datasets\n",
        "df1 = pd.read_csv('creditcard_2023.csv')\n",
        "df2 = pd.read_csv('fraudTrain.csv')\n",
        "\n",
        "df1.head(), df2.head()"
      ]
    },
    {
      "cell_type": "code",
      "execution_count": 9,
      "id": "6fce8b2f",
      "metadata": {},
      "outputs": [],
      "source": [
        "import pandas as pd\n",
        "from sklearn.preprocessing import StandardScaler\n",
        "\n",
        "def preprocess_for_logreg(df):\n",
        "    df = df.copy()\n",
        "    \n",
        "    # Convert dates to datetime\n",
        "    df['trans_date_trans_time'] = pd.to_datetime(df['trans_date_trans_time'])\n",
        "    df['dob'] = pd.to_datetime(df['dob'])\n",
        "\n",
        "    # Create age feature\n",
        "    df['age'] = df['trans_date_trans_time'].dt.year - df['dob'].dt.year\n",
        "\n",
        "    # Extract time-based features\n",
        "    df['hour'] = df['trans_date_trans_time'].dt.hour\n",
        "    df['day'] = df['trans_date_trans_time'].dt.day\n",
        "    df['month'] = df['trans_date_trans_time'].dt.month\n",
        "    df['weekday'] = df['trans_date_trans_time'].dt.weekday\n",
        "\n",
        "    # Drop high-cardinality or ID-like columns\n",
        "    df.drop(columns=['trans_date_trans_time', 'dob', 'trans_num', 'cc_num', 'unix_time',\n",
        "                     'first', 'last', 'street'], inplace=True)\n",
        "\n",
        "    # One-hot encode categorical variables\n",
        "    categorical_cols = ['merchant', 'category', 'gender', 'city', 'state', 'job']\n",
        "    df = pd.get_dummies(df, columns=categorical_cols, drop_first=True)\n",
        "\n",
        "    # Scale numeric features\n",
        "    scaler = StandardScaler()\n",
        "    numeric_cols = ['amt', 'lat', 'long', 'city_pop', 'merch_lat', 'merch_long', 'age', 'hour', 'day', 'month', 'weekday']\n",
        "    df[numeric_cols] = scaler.fit_transform(df[numeric_cols])\n",
        "\n",
        "    return df\n"
      ]
    },
    {
      "cell_type": "code",
      "execution_count": 10,
      "metadata": {},
      "outputs": [],
      "source": [
        "def preprocess(df):\n",
        "    df = df.dropna()\n",
        "    if 'Time' in df.columns:\n",
        "        df = df.drop(columns=['Time'])\n",
        "    if 'Amount' in df.columns:\n",
        "        df['Amount'] = StandardScaler().fit_transform(df['Amount'].values.reshape(-1, 1))\n",
        "    return df\n",
        "\n",
        "df1 = preprocess(df1)\n",
        "df2 = preprocess(df2)\n",
        "df2 = preprocess_for_logreg(df2)"
      ]
    },
    {
      "cell_type": "code",
      "execution_count": 13,
      "metadata": {},
      "outputs": [
        {
          "name": "stderr",
          "output_type": "stream",
          "text": [
            "C:\\Users\\Abeer\\AppData\\Roaming\\Python\\Python312\\site-packages\\sklearn\\linear_model\\_logistic.py:465: ConvergenceWarning: lbfgs failed to converge (status=1):\n",
            "STOP: TOTAL NO. of ITERATIONS REACHED LIMIT.\n",
            "\n",
            "Increase the number of iterations (max_iter) or scale the data as shown in:\n",
            "    https://scikit-learn.org/stable/modules/preprocessing.html\n",
            "Please also refer to the documentation for alternative solver options:\n",
            "    https://scikit-learn.org/stable/modules/linear_model.html#logistic-regression\n",
            "  n_iter_i = _check_optimize_result(\n"
          ]
        }
      ],
      "source": [
        "def train_models(df, test_size, label_column='Class', testing_file=''):\n",
        "    X = df.drop(columns=[label_column])\n",
        "    y = df[label_column]\n",
        "\n",
        "    if test_size == 0:\n",
        "        X_train = X\n",
        "        y_train = y\n",
        "        df_test = pd.read_csv(testing_file)\n",
        "        df_test = preprocess(df_test)\n",
        "        df_test = preprocess_for_logreg(df_test)\n",
        "        X_test = df_test.drop(columns=[label_column])\n",
        "        y_test = df_test[label_column]\n",
        "    else:\n",
        "        X_train, X_test, y_train, y_test = train_test_split(X, y, test_size=test_size, random_state=42, stratify=y)\n",
        "\n",
        "    models = {\n",
        "        \"Random Forest\": RandomForestClassifier(random_state=42),\n",
        "        \"Logistic Regression\": LogisticRegression(max_iter=1000)\n",
        "    }\n",
        "\n",
        "    results = {}\n",
        "    for name, model in models.items():\n",
        "        model.fit(X_train, y_train)\n",
        "        y_pred = model.predict(X_test)\n",
        "        results[name] = {\n",
        "            \"model\": model,\n",
        "            \"classification_report\": classification_report(y_test, y_pred, output_dict=True),\n",
        "            \"roc_auc\": roc_auc_score(y_test, model.predict_proba(X_test)[:, 1])\n",
        "        }\n",
        "\n",
        "    return results\n",
        "\n",
        "#results2 = train_models(df2, 0.0, testing_file='fraudTest.csv', label_column='is_fraud')\n",
        "results1 = train_models(df1, 0.3)"
      ]
    },
    {
      "cell_type": "code",
      "execution_count": 14,
      "metadata": {},
      "outputs": [
        {
          "name": "stdout",
          "output_type": "stream",
          "text": [
            "Results for Dataset 1:\n",
            "Model: Random Forest\n",
            "ROC-AUC: 1.0000\n",
            "Classification Report:\n",
            "              precision    recall  f1-score        support\n",
            "0              0.999719  0.999953  0.999836   85295.000000\n",
            "1              0.999953  0.999719  0.999836   85294.000000\n",
            "accuracy       0.999836  0.999836  0.999836       0.999836\n",
            "macro avg      0.999836  0.999836  0.999836  170589.000000\n",
            "weighted avg   0.999836  0.999836  0.999836  170589.000000\n",
            "--------------------------------------------------\n",
            "Model: Logistic Regression\n",
            "ROC-AUC: 0.9998\n",
            "Classification Report:\n",
            "              precision    recall  f1-score        support\n",
            "0              0.996967  0.998265  0.997616   85295.000000\n",
            "1              0.998263  0.996963  0.997613   85294.000000\n",
            "accuracy       0.997614  0.997614  0.997614       0.997614\n",
            "macro avg      0.997615  0.997614  0.997614  170589.000000\n",
            "weighted avg   0.997615  0.997614  0.997614  170589.000000\n",
            "--------------------------------------------------\n"
          ]
        }
      ],
      "source": [
        "def compare_results(results, dataset_name):\n",
        "    print(f\"Results for {dataset_name}:\")\n",
        "    for model_name, metrics in results.items():\n",
        "        print(f\"Model: {model_name}\")\n",
        "        print(f\"ROC-AUC: {metrics['roc_auc']:.4f}\")\n",
        "        print(\"Classification Report:\")\n",
        "        print(pd.DataFrame(metrics['classification_report']).T)\n",
        "        print(\"-\" * 50)\n",
        "\n",
        "compare_results(results1, \"Dataset 1\")\n",
        "#compare_results(results2, \"Dataset 2\")"
      ]
    },
    {
      "cell_type": "code",
      "execution_count": 15,
      "metadata": {},
      "outputs": [
        {
          "data": {
            "text/plain": [
              "['model_dataset_lg_1.pkl']"
            ]
          },
          "execution_count": 15,
          "metadata": {},
          "output_type": "execute_result"
        }
      ],
      "source": [
        "# Save best models\n",
        "joblib.dump(results1['Random Forest']['model'], 'model_dataset_rf_1.pkl')\n",
        "joblib.dump(results1['Logistic Regression']['model'], 'model_dataset_lg_1.pkl')\n",
        "\n",
        "#joblib.dump(results2['Random Forest']['model'], 'model_dataset_rf_2.pkl')\n",
        "#joblib.dump(results2['Logistic Regression']['model'], 'model_dataset_lg_2.pkl')"
      ]
    },
    {
      "cell_type": "code",
      "execution_count": null,
      "id": "6651f18b",
      "metadata": {},
      "outputs": [],
      "source": []
    }
  ],
  "metadata": {
    "kernelspec": {
      "display_name": "Python 3",
      "language": "python",
      "name": "python3"
    },
    "language_info": {
      "codemirror_mode": {
        "name": "ipython",
        "version": 3
      },
      "file_extension": ".py",
      "mimetype": "text/x-python",
      "name": "python",
      "nbconvert_exporter": "python",
      "pygments_lexer": "ipython3",
      "version": "3.12.6"
    }
  },
  "nbformat": 4,
  "nbformat_minor": 5
}
